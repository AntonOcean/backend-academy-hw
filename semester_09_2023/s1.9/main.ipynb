{
 "cells": [
  {
   "cell_type": "markdown",
   "metadata": {},
   "source": [
    "Python data model\n",
    "========"
   ]
  },
  {
   "cell_type": "code",
   "execution_count": 1,
   "metadata": {},
   "outputs": [],
   "source": [
    "class ListView:\n",
    "    def __init__(self, lst, start, stop):\n",
    "        self._lst = lst\n",
    "        self._start = start\n",
    "        self._stop = stop"
   ]
  },
  {
   "cell_type": "code",
   "execution_count": 2,
   "metadata": {},
   "outputs": [
    {
     "data": {
      "text/plain": [
       "<__main__.ListView at 0x109dddd60>"
      ]
     },
     "execution_count": 2,
     "metadata": {},
     "output_type": "execute_result"
    }
   ],
   "source": [
    "ListView([0, 1, 2, 3, 4], 1, 3)"
   ]
  },
  {
   "cell_type": "markdown",
   "metadata": {},
   "source": [
    "`__len__`\n",
    "---"
   ]
  },
  {
   "cell_type": "code",
   "execution_count": 3,
   "metadata": {},
   "outputs": [],
   "source": [
    "class ListView:\n",
    "    def __init__(self, lst, start, stop):\n",
    "        self._lst = lst\n",
    "        self._start = start\n",
    "        self._stop = stop\n",
    "        \n",
    "    def __len__(self):\n",
    "        return self._stop - self._start"
   ]
  },
  {
   "cell_type": "code",
   "execution_count": 4,
   "metadata": {},
   "outputs": [
    {
     "data": {
      "text/plain": [
       "2"
      ]
     },
     "execution_count": 4,
     "metadata": {},
     "output_type": "execute_result"
    }
   ],
   "source": [
    "len(ListView([0, 1, 2, 3, 4], 1, 3))"
   ]
  },
  {
   "cell_type": "markdown",
   "metadata": {},
   "source": [
    "`__iter__`\n",
    "---"
   ]
  },
  {
   "cell_type": "code",
   "execution_count": 5,
   "metadata": {},
   "outputs": [
    {
     "ename": "TypeError",
     "evalue": "'ListView' object is not iterable",
     "output_type": "error",
     "traceback": [
      "\u001b[0;31m---------------------------------------------------------------------------\u001b[0m",
      "\u001b[0;31mTypeError\u001b[0m                                 Traceback (most recent call last)",
      "Cell \u001b[0;32mIn [5], line 1\u001b[0m\n\u001b[0;32m----> 1\u001b[0m \u001b[38;5;28;43mlist\u001b[39;49m\u001b[43m(\u001b[49m\u001b[43mListView\u001b[49m\u001b[43m(\u001b[49m\u001b[43m[\u001b[49m\u001b[38;5;241;43m0\u001b[39;49m\u001b[43m,\u001b[49m\u001b[43m \u001b[49m\u001b[38;5;241;43m1\u001b[39;49m\u001b[43m,\u001b[49m\u001b[43m \u001b[49m\u001b[38;5;241;43m2\u001b[39;49m\u001b[43m,\u001b[49m\u001b[43m \u001b[49m\u001b[38;5;241;43m3\u001b[39;49m\u001b[43m,\u001b[49m\u001b[43m \u001b[49m\u001b[38;5;241;43m4\u001b[39;49m\u001b[43m]\u001b[49m\u001b[43m,\u001b[49m\u001b[43m \u001b[49m\u001b[38;5;241;43m1\u001b[39;49m\u001b[43m,\u001b[49m\u001b[43m \u001b[49m\u001b[38;5;241;43m3\u001b[39;49m\u001b[43m)\u001b[49m\u001b[43m)\u001b[49m\n",
      "\u001b[0;31mTypeError\u001b[0m: 'ListView' object is not iterable"
     ]
    }
   ],
   "source": [
    "list(ListView([0, 1, 2, 3, 4], 1, 3))"
   ]
  },
  {
   "cell_type": "code",
   "execution_count": 6,
   "metadata": {},
   "outputs": [],
   "source": [
    "class ListView:\n",
    "    def __init__(self, lst, start, stop):\n",
    "        self._lst = lst\n",
    "        self._start = start\n",
    "        self._stop = stop\n",
    "        \n",
    "    def __len__(self):\n",
    "        return self._stop - self._start\n",
    "    \n",
    "    def __iter__(self):\n",
    "        for i in range(self._start, self._stop):\n",
    "            yield self._lst[i]"
   ]
  },
  {
   "cell_type": "code",
   "execution_count": 7,
   "metadata": {},
   "outputs": [
    {
     "data": {
      "text/plain": [
       "[1, 2]"
      ]
     },
     "execution_count": 7,
     "metadata": {},
     "output_type": "execute_result"
    }
   ],
   "source": [
    "list(ListView([0, 1, 2, 3, 4], 1, 3))"
   ]
  },
  {
   "cell_type": "code",
   "execution_count": 8,
   "metadata": {},
   "outputs": [
    {
     "data": {
      "text/plain": [
       "<generator object ListView.__iter__ at 0x10a1fdf90>"
      ]
     },
     "execution_count": 8,
     "metadata": {},
     "output_type": "execute_result"
    }
   ],
   "source": [
    "itr = iter(ListView([0, 1, 2, 3, 4], 1, 3))\n",
    "itr"
   ]
  },
  {
   "cell_type": "code",
   "execution_count": 11,
   "metadata": {},
   "outputs": [
    {
     "ename": "StopIteration",
     "evalue": "",
     "output_type": "error",
     "traceback": [
      "\u001b[0;31m---------------------------------------------------------------------------\u001b[0m",
      "\u001b[0;31mStopIteration\u001b[0m                             Traceback (most recent call last)",
      "Cell \u001b[0;32mIn [11], line 1\u001b[0m\n\u001b[0;32m----> 1\u001b[0m \u001b[38;5;28;43mnext\u001b[39;49m\u001b[43m(\u001b[49m\u001b[43mitr\u001b[49m\u001b[43m)\u001b[49m\n",
      "\u001b[0;31mStopIteration\u001b[0m: "
     ]
    }
   ],
   "source": [
    "next(itr)"
   ]
  },
  {
   "cell_type": "markdown",
   "metadata": {},
   "source": [
    "`__getitem__`\n",
    "---"
   ]
  },
  {
   "cell_type": "code",
   "execution_count": 12,
   "metadata": {},
   "outputs": [],
   "source": [
    "class ListView:\n",
    "    def __init__(self, lst, start, stop):\n",
    "        self._lst = lst\n",
    "        self._start = start\n",
    "        self._stop = stop\n",
    "        \n",
    "    def __len__(self):\n",
    "        return self._stop - self._start\n",
    "    \n",
    "    def __getitem__(self, idx):\n",
    "        if self._start + idx < self._stop:\n",
    "            return self._lst[self._start + idx]\n",
    "        else:\n",
    "            raise IndexError(idx)"
   ]
  },
  {
   "cell_type": "code",
   "execution_count": 16,
   "metadata": {},
   "outputs": [
    {
     "ename": "TypeError",
     "evalue": "unsupported operand type(s) for +: 'int' and 'slice'",
     "output_type": "error",
     "traceback": [
      "\u001b[0;31m---------------------------------------------------------------------------\u001b[0m",
      "\u001b[0;31mTypeError\u001b[0m                                 Traceback (most recent call last)",
      "Cell \u001b[0;32mIn [16], line 1\u001b[0m\n\u001b[0;32m----> 1\u001b[0m \u001b[43mListView\u001b[49m\u001b[43m(\u001b[49m\u001b[43m[\u001b[49m\u001b[38;5;241;43m0\u001b[39;49m\u001b[43m,\u001b[49m\u001b[43m \u001b[49m\u001b[38;5;241;43m1\u001b[39;49m\u001b[43m,\u001b[49m\u001b[43m \u001b[49m\u001b[38;5;241;43m2\u001b[39;49m\u001b[43m,\u001b[49m\u001b[43m \u001b[49m\u001b[38;5;241;43m3\u001b[39;49m\u001b[43m,\u001b[49m\u001b[43m \u001b[49m\u001b[38;5;241;43m4\u001b[39;49m\u001b[43m]\u001b[49m\u001b[43m,\u001b[49m\u001b[43m \u001b[49m\u001b[38;5;241;43m1\u001b[39;49m\u001b[43m,\u001b[49m\u001b[43m \u001b[49m\u001b[38;5;241;43m3\u001b[39;49m\u001b[43m)\u001b[49m\u001b[43m[\u001b[49m\u001b[43m:\u001b[49m\u001b[43m]\u001b[49m\n",
      "Cell \u001b[0;32mIn [12], line 11\u001b[0m, in \u001b[0;36mListView.__getitem__\u001b[0;34m(self, idx)\u001b[0m\n\u001b[1;32m     10\u001b[0m \u001b[38;5;28;01mdef\u001b[39;00m \u001b[38;5;21m__getitem__\u001b[39m(\u001b[38;5;28mself\u001b[39m, idx):\n\u001b[0;32m---> 11\u001b[0m     \u001b[38;5;28;01mif\u001b[39;00m \u001b[38;5;28;43mself\u001b[39;49m\u001b[38;5;241;43m.\u001b[39;49m\u001b[43m_start\u001b[49m\u001b[43m \u001b[49m\u001b[38;5;241;43m+\u001b[39;49m\u001b[43m \u001b[49m\u001b[43midx\u001b[49m \u001b[38;5;241m<\u001b[39m \u001b[38;5;28mself\u001b[39m\u001b[38;5;241m.\u001b[39m_stop:\n\u001b[1;32m     12\u001b[0m         \u001b[38;5;28;01mreturn\u001b[39;00m \u001b[38;5;28mself\u001b[39m\u001b[38;5;241m.\u001b[39m_lst[\u001b[38;5;28mself\u001b[39m\u001b[38;5;241m.\u001b[39m_start \u001b[38;5;241m+\u001b[39m idx]\n\u001b[1;32m     13\u001b[0m     \u001b[38;5;28;01melse\u001b[39;00m:\n",
      "\u001b[0;31mTypeError\u001b[0m: unsupported operand type(s) for +: 'int' and 'slice'"
     ]
    }
   ],
   "source": [
    "ListView([0, 1, 2, 3, 4], 1, 3)[1]"
   ]
  },
  {
   "cell_type": "code",
   "execution_count": 18,
   "metadata": {},
   "outputs": [
    {
     "data": {
      "text/plain": [
       "[1, 2]"
      ]
     },
     "execution_count": 18,
     "metadata": {},
     "output_type": "execute_result"
    }
   ],
   "source": [
    "list(ListView([0, 1, 2, 3, 4], 1, 3))[:]"
   ]
  },
  {
   "cell_type": "markdown",
   "metadata": {},
   "source": [
    "`__setitem__`\n",
    "---"
   ]
  },
  {
   "cell_type": "code",
   "execution_count": 19,
   "metadata": {},
   "outputs": [],
   "source": [
    "class ListView:\n",
    "    def __init__(self, lst, start, stop):\n",
    "        self._lst = lst\n",
    "        self._start = start\n",
    "        self._stop = stop\n",
    "        \n",
    "    def __len__(self):\n",
    "        return self._stop - self._start\n",
    "    \n",
    "    def __getitem__(self, idx):\n",
    "        if self._start + idx < self._stop:\n",
    "            return self._lst[self._start + idx]\n",
    "        else:\n",
    "            raise IndexError(idx)\n",
    "            \n",
    "    def __setitem__(self, idx, value):\n",
    "        if self._start + idx < self._stop:\n",
    "            self._lst[self._start + idx] = value\n",
    "        else:\n",
    "            raise IndexError(idx)"
   ]
  },
  {
   "cell_type": "code",
   "execution_count": 20,
   "metadata": {},
   "outputs": [
    {
     "data": {
      "text/plain": [
       "[1, 2]"
      ]
     },
     "execution_count": 20,
     "metadata": {},
     "output_type": "execute_result"
    }
   ],
   "source": [
    "lst = [0, 1, 2, 3, 4]\n",
    "view = ListView(lst, 1, 3)\n",
    "list(view)"
   ]
  },
  {
   "cell_type": "code",
   "execution_count": 21,
   "metadata": {},
   "outputs": [],
   "source": [
    "view[1] = 7"
   ]
  },
  {
   "cell_type": "code",
   "execution_count": 22,
   "metadata": {},
   "outputs": [
    {
     "data": {
      "text/plain": [
       "[1, 7]"
      ]
     },
     "execution_count": 22,
     "metadata": {},
     "output_type": "execute_result"
    }
   ],
   "source": [
    "list(view)"
   ]
  },
  {
   "cell_type": "code",
   "execution_count": 23,
   "metadata": {},
   "outputs": [
    {
     "data": {
      "text/plain": [
       "[0, 1, 7, 3, 4]"
      ]
     },
     "execution_count": 23,
     "metadata": {},
     "output_type": "execute_result"
    }
   ],
   "source": [
    "lst"
   ]
  },
  {
   "cell_type": "markdown",
   "metadata": {},
   "source": [
    "`__add__`\n",
    "---"
   ]
  },
  {
   "cell_type": "code",
   "execution_count": 24,
   "metadata": {},
   "outputs": [],
   "source": [
    "class ViewOffset:\n",
    "    def __init__(self, value):\n",
    "        self.value = value\n",
    "\n",
    "\n",
    "class ListView:\n",
    "    def __init__(self, lst, start, stop):\n",
    "        self._lst = lst\n",
    "        self._start = start\n",
    "        self._stop = stop\n",
    "        \n",
    "    def __len__(self):\n",
    "        return self._stop - self._start\n",
    "    \n",
    "    def __getitem__(self, idx):\n",
    "        if self._start + idx < self._stop:\n",
    "            return self._lst[self._start + idx]\n",
    "        else:\n",
    "            raise IndexError(idx)\n",
    "            \n",
    "    def __add__(self, offset):\n",
    "        if self._stop + offset.value > len(self._lst):\n",
    "            raise ValueError(offset)\n",
    "            \n",
    "        return type(self)(self._lst, self._start + offset.value, self._stop + offset.value)"
   ]
  },
  {
   "cell_type": "code",
   "execution_count": 25,
   "metadata": {},
   "outputs": [
    {
     "data": {
      "text/plain": [
       "[1, 2]"
      ]
     },
     "execution_count": 25,
     "metadata": {},
     "output_type": "execute_result"
    }
   ],
   "source": [
    "lst = [0, 1, 2, 3, 4, 5]\n",
    "v = ListView(lst, 1, 3)\n",
    "list(v)"
   ]
  },
  {
   "cell_type": "code",
   "execution_count": 26,
   "metadata": {},
   "outputs": [
    {
     "data": {
      "text/plain": [
       "[3, 4]"
      ]
     },
     "execution_count": 26,
     "metadata": {},
     "output_type": "execute_result"
    }
   ],
   "source": [
    "list(v + ViewOffset(2))"
   ]
  },
  {
   "cell_type": "code",
   "execution_count": 27,
   "metadata": {},
   "outputs": [
    {
     "ename": "TypeError",
     "evalue": "unsupported operand type(s) for +: 'ViewOffset' and 'ListView'",
     "output_type": "error",
     "traceback": [
      "\u001b[0;31m---------------------------------------------------------------------------\u001b[0m",
      "\u001b[0;31mTypeError\u001b[0m                                 Traceback (most recent call last)",
      "Cell \u001b[0;32mIn [27], line 1\u001b[0m\n\u001b[0;32m----> 1\u001b[0m \u001b[38;5;28mlist\u001b[39m(\u001b[43mViewOffset\u001b[49m\u001b[43m(\u001b[49m\u001b[38;5;241;43m2\u001b[39;49m\u001b[43m)\u001b[49m\u001b[43m \u001b[49m\u001b[38;5;241;43m+\u001b[39;49m\u001b[43m \u001b[49m\u001b[43mv\u001b[49m)\n",
      "\u001b[0;31mTypeError\u001b[0m: unsupported operand type(s) for +: 'ViewOffset' and 'ListView'"
     ]
    }
   ],
   "source": [
    "list(ViewOffset(2) + v)"
   ]
  },
  {
   "cell_type": "markdown",
   "metadata": {},
   "source": [
    "`__radd__`\n",
    "---"
   ]
  },
  {
   "cell_type": "code",
   "execution_count": 28,
   "metadata": {},
   "outputs": [],
   "source": [
    "class ViewOffset:\n",
    "    def __init__(self, value):\n",
    "        self.value = value\n",
    "\n",
    "\n",
    "class ListView:\n",
    "    def __init__(self, lst, start, stop):\n",
    "        self._lst = lst\n",
    "        self._start = start\n",
    "        self._stop = stop\n",
    "        \n",
    "    def __len__(self):\n",
    "        return self._stop - self._start\n",
    "    \n",
    "    def __getitem__(self, idx):\n",
    "        if self._start + idx < self._stop:\n",
    "            return self._lst[self._start + idx]\n",
    "        else:\n",
    "            raise IndexError(idx)\n",
    "            \n",
    "    def __add__(self, offset):\n",
    "        if self._stop + offset.value > len(self._lst):\n",
    "            raise ValueError(offset)\n",
    "            \n",
    "        return type(self)(self._lst, self._start + offset.value, self._stop + offset.value)\n",
    "    \n",
    "    def __radd__(self, offset):\n",
    "        return self + offset"
   ]
  },
  {
   "cell_type": "code",
   "execution_count": 29,
   "metadata": {},
   "outputs": [
    {
     "data": {
      "text/plain": [
       "[3, 4]"
      ]
     },
     "execution_count": 29,
     "metadata": {},
     "output_type": "execute_result"
    }
   ],
   "source": [
    "lst = [0, 1, 2, 3, 4, 5]\n",
    "v = ListView(lst, 1, 3)\n",
    "list(ViewOffset(2) + v)"
   ]
  },
  {
   "cell_type": "code",
   "execution_count": 30,
   "metadata": {},
   "outputs": [
    {
     "ename": "TypeError",
     "evalue": "unsupported operand type(s) for +: 'ViewOffset' and 'ViewOffset'",
     "output_type": "error",
     "traceback": [
      "\u001b[0;31m---------------------------------------------------------------------------\u001b[0m",
      "\u001b[0;31mTypeError\u001b[0m                                 Traceback (most recent call last)",
      "Cell \u001b[0;32mIn [30], line 3\u001b[0m\n\u001b[1;32m      1\u001b[0m lst \u001b[38;5;241m=\u001b[39m [\u001b[38;5;241m0\u001b[39m, \u001b[38;5;241m1\u001b[39m, \u001b[38;5;241m2\u001b[39m, \u001b[38;5;241m3\u001b[39m, \u001b[38;5;241m4\u001b[39m, \u001b[38;5;241m5\u001b[39m]\n\u001b[1;32m      2\u001b[0m v \u001b[38;5;241m=\u001b[39m ListView(lst, \u001b[38;5;241m1\u001b[39m, \u001b[38;5;241m3\u001b[39m)\n\u001b[0;32m----> 3\u001b[0m \u001b[38;5;28mlist\u001b[39m(\u001b[43mViewOffset\u001b[49m\u001b[43m(\u001b[49m\u001b[38;5;241;43m1\u001b[39;49m\u001b[43m)\u001b[49m\u001b[43m \u001b[49m\u001b[38;5;241;43m+\u001b[39;49m\u001b[43m \u001b[49m\u001b[43mViewOffset\u001b[49m\u001b[43m(\u001b[49m\u001b[38;5;241;43m1\u001b[39;49m\u001b[43m)\u001b[49m \u001b[38;5;241m+\u001b[39m v)\n",
      "\u001b[0;31mTypeError\u001b[0m: unsupported operand type(s) for +: 'ViewOffset' and 'ViewOffset'"
     ]
    }
   ],
   "source": [
    "lst = [0, 1, 2, 3, 4, 5]\n",
    "v = ListView(lst, 1, 3)\n",
    "list(ViewOffset(1) + ViewOffset(1) + v)"
   ]
  },
  {
   "cell_type": "code",
   "execution_count": null,
   "metadata": {
    "collapsed": true
   },
   "outputs": [],
   "source": [
    "#    def __add__(self, other):\n",
    "#        if isinstance(other, type(self)):\n",
    "#            return type(self)(self.value + other.value)\n",
    "#        else:\n",
    "#            return NotImplemented"
   ]
  },
  {
   "cell_type": "markdown",
   "metadata": {},
   "source": [
    "`collections.abc`\n",
    "---"
   ]
  },
  {
   "cell_type": "code",
   "execution_count": 37,
   "metadata": {},
   "outputs": [],
   "source": [
    "from collections import Sequence\n",
    "\n",
    "class ListView(Sequence):\n",
    "    def __init__(self, lst, start, stop):\n",
    "        self._lst = lst\n",
    "        self._start = start\n",
    "        self._stop = stop\n",
    "        \n",
    "    def __len__(self):\n",
    "        return self._stop - self._start\n",
    "    \n",
    "    def __getitem__(self, idx):\n",
    "        if self._start + idx < self._stop:\n",
    "            return self._lst[self._start + idx]\n",
    "        else:\n",
    "            raise IndexError(idx)"
   ]
  },
  {
   "cell_type": "code",
   "execution_count": 38,
   "metadata": {},
   "outputs": [
    {
     "data": {
      "text/plain": [
       "2"
      ]
     },
     "execution_count": 38,
     "metadata": {},
     "output_type": "execute_result"
    }
   ],
   "source": [
    "len(ListView([0, 1, 2, 3, 4], 1, 3))"
   ]
  },
  {
   "cell_type": "markdown",
   "metadata": {},
   "source": [
    "`__new__`\n",
    "---"
   ]
  },
  {
   "cell_type": "code",
   "execution_count": 39,
   "metadata": {},
   "outputs": [],
   "source": [
    "class Interval:\n",
    "    def __init__(self, begin, end):\n",
    "        self.begin = begin\n",
    "        self.end = end"
   ]
  },
  {
   "cell_type": "code",
   "execution_count": 40,
   "metadata": {},
   "outputs": [
    {
     "data": {
      "text/plain": [
       "(1, 2)"
      ]
     },
     "execution_count": 40,
     "metadata": {},
     "output_type": "execute_result"
    }
   ],
   "source": [
    "i = Interval(1, 2)\n",
    "i.begin, i.end"
   ]
  },
  {
   "cell_type": "code",
   "execution_count": 43,
   "metadata": {},
   "outputs": [],
   "source": [
    "class Interval:\n",
    "    def __new__(cls, begin, end):\n",
    "        if begin > end:\n",
    "            raise Exception\n",
    "        return super().__new__(cls)\n",
    "    \n",
    "    def __init__(self, begin, end):\n",
    "        self.begin = begin\n",
    "        self.end = end"
   ]
  },
  {
   "cell_type": "code",
   "execution_count": 44,
   "metadata": {},
   "outputs": [
    {
     "ename": "Exception",
     "evalue": "",
     "output_type": "error",
     "traceback": [
      "\u001b[0;31m---------------------------------------------------------------------------\u001b[0m",
      "\u001b[0;31mException\u001b[0m                                 Traceback (most recent call last)",
      "Cell \u001b[0;32mIn [44], line 1\u001b[0m\n\u001b[0;32m----> 1\u001b[0m \u001b[38;5;28mprint\u001b[39m(\u001b[43mInterval\u001b[49m\u001b[43m(\u001b[49m\u001b[38;5;241;43m2\u001b[39;49m\u001b[43m,\u001b[49m\u001b[43m \u001b[49m\u001b[38;5;241;43m1\u001b[39;49m\u001b[43m)\u001b[49m)\n",
      "Cell \u001b[0;32mIn [43], line 4\u001b[0m, in \u001b[0;36mInterval.__new__\u001b[0;34m(cls, begin, end)\u001b[0m\n\u001b[1;32m      2\u001b[0m \u001b[38;5;28;01mdef\u001b[39;00m \u001b[38;5;21m__new__\u001b[39m(\u001b[38;5;28mcls\u001b[39m, begin, end):\n\u001b[1;32m      3\u001b[0m     \u001b[38;5;28;01mif\u001b[39;00m begin \u001b[38;5;241m>\u001b[39m end:\n\u001b[0;32m----> 4\u001b[0m         \u001b[38;5;28;01mraise\u001b[39;00m \u001b[38;5;167;01mException\u001b[39;00m\n\u001b[1;32m      5\u001b[0m     \u001b[38;5;28;01mreturn\u001b[39;00m \u001b[38;5;28msuper\u001b[39m()\u001b[38;5;241m.\u001b[39m\u001b[38;5;21m__new__\u001b[39m(\u001b[38;5;28mcls\u001b[39m)\n",
      "\u001b[0;31mException\u001b[0m: "
     ]
    }
   ],
   "source": [
    "print(Interval(2, 1))"
   ]
  },
  {
   "cell_type": "markdown",
   "metadata": {},
   "source": [
    "Декораторы\n",
    "==="
   ]
  },
  {
   "cell_type": "markdown",
   "metadata": {},
   "source": [
    "Декоратор функции\n",
    "---"
   ]
  },
  {
   "cell_type": "code",
   "execution_count": 45,
   "metadata": {},
   "outputs": [],
   "source": [
    "def sqr(x):\n",
    "    return x * x\n",
    "\n",
    "def half(x):\n",
    "    return x / 2"
   ]
  },
  {
   "cell_type": "code",
   "execution_count": 46,
   "metadata": {},
   "outputs": [
    {
     "data": {
      "text/plain": [
       "9"
      ]
     },
     "execution_count": 46,
     "metadata": {},
     "output_type": "execute_result"
    }
   ],
   "source": [
    "sqr(3)"
   ]
  },
  {
   "cell_type": "code",
   "execution_count": 47,
   "metadata": {},
   "outputs": [
    {
     "data": {
      "text/plain": [
       "2.5"
      ]
     },
     "execution_count": 47,
     "metadata": {},
     "output_type": "execute_result"
    }
   ],
   "source": [
    "half(5)"
   ]
  },
  {
   "cell_type": "code",
   "execution_count": 48,
   "metadata": {},
   "outputs": [],
   "source": [
    "_sqr_cache = {}\n",
    "def sqr(x):\n",
    "    if x not in _sqr_cache:\n",
    "        _sqr_cache[x] = x * x\n",
    "    return _sqr_cache[x]\n",
    "\n",
    "_half_cache = {}\n",
    "def half(x):\n",
    "    if x not in _half_cache:\n",
    "        _half_cache[x] = x // 2\n",
    "    return _half_cache[x]"
   ]
  },
  {
   "cell_type": "code",
   "execution_count": 49,
   "metadata": {},
   "outputs": [
    {
     "data": {
      "text/plain": [
       "(25, 10)"
      ]
     },
     "execution_count": 49,
     "metadata": {},
     "output_type": "execute_result"
    }
   ],
   "source": [
    "sqr(5), half(20)"
   ]
  },
  {
   "cell_type": "code",
   "execution_count": 50,
   "metadata": {},
   "outputs": [
    {
     "data": {
      "text/plain": [
       "({5: 25}, {20: 10})"
      ]
     },
     "execution_count": 50,
     "metadata": {},
     "output_type": "execute_result"
    }
   ],
   "source": [
    "_sqr_cache, _half_cache"
   ]
  },
  {
   "cell_type": "code",
   "execution_count": 51,
   "metadata": {},
   "outputs": [
    {
     "ename": "NameError",
     "evalue": "name 'cached' is not defined",
     "output_type": "error",
     "traceback": [
      "\u001b[0;31m---------------------------------------------------------------------------\u001b[0m",
      "\u001b[0;31mNameError\u001b[0m                                 Traceback (most recent call last)",
      "Cell \u001b[0;32mIn [51], line 1\u001b[0m\n\u001b[0;32m----> 1\u001b[0m \u001b[38;5;129m@cached\u001b[39m\n\u001b[1;32m      2\u001b[0m \u001b[38;5;28;01mdef\u001b[39;00m \u001b[38;5;21msqr\u001b[39m(x):\n\u001b[1;32m      3\u001b[0m     \u001b[38;5;28mprint\u001b[39m(\u001b[38;5;124m'\u001b[39m\u001b[38;5;124mcalculating sqr\u001b[39m\u001b[38;5;124m'\u001b[39m)\n\u001b[1;32m      4\u001b[0m     \u001b[38;5;28;01mreturn\u001b[39;00m x \u001b[38;5;241m*\u001b[39m x\n",
      "\u001b[0;31mNameError\u001b[0m: name 'cached' is not defined"
     ]
    }
   ],
   "source": [
    "@cached\n",
    "def sqr(x):\n",
    "    print('calculating sqr')\n",
    "    return x * x\n",
    "\n",
    "@cached\n",
    "def half(x):\n",
    "    print('calculating half')\n",
    "    return x / 2\n",
    "\n"
   ]
  },
  {
   "cell_type": "code",
   "execution_count": 52,
   "metadata": {},
   "outputs": [
    {
     "data": {
      "text/plain": [
       "(4, 5)"
      ]
     },
     "execution_count": 52,
     "metadata": {},
     "output_type": "execute_result"
    }
   ],
   "source": [
    "sqr(2), half(10)"
   ]
  },
  {
   "cell_type": "code",
   "execution_count": null,
   "metadata": {
    "collapsed": true
   },
   "outputs": [],
   "source": [
    "def cached(func):\n",
    "    def new_func(x):\n",
    "        return func(x)\n",
    "\n",
    "    return new_func"
   ]
  },
  {
   "cell_type": "code",
   "execution_count": null,
   "metadata": {
    "collapsed": true
   },
   "outputs": [],
   "source": [
    "def cached(func):\n",
    "    cache = {}\n",
    "\n",
    "    def new_func(x):\n",
    "        if x not in cache:\n",
    "            cache[x] = func(x)\n",
    "        return cache[x]\n",
    "\n",
    "    return new_func"
   ]
  },
  {
   "cell_type": "code",
   "execution_count": null,
   "metadata": {},
   "outputs": [],
   "source": [
    "def sqr(x):\n",
    "    print('calculating sqr')\n",
    "    return x * x\n",
    "\n",
    "sqr = cached(sqr)\n",
    "sqr(2), sqr(2)"
   ]
  },
  {
   "cell_type": "markdown",
   "metadata": {},
   "source": [
    "Декоратор функции с параметрами\n",
    "---"
   ]
  },
  {
   "cell_type": "code",
   "execution_count": 54,
   "metadata": {},
   "outputs": [],
   "source": [
    "@cached(limit=3)\n",
    "def sqr(x):\n",
    "    print('calculating sqr')\n",
    "    return x * x    "
   ]
  },
  {
   "cell_type": "code",
   "execution_count": 64,
   "metadata": {},
   "outputs": [],
   "source": [
    "sqr = cached(limit=3)(sqr)"
   ]
  },
  {
   "cell_type": "code",
   "execution_count": 60,
   "metadata": {},
   "outputs": [],
   "source": [
    "def cached(limit):\n",
    "    def decorator(func):\n",
    "        pass\n",
    "    \n",
    "    return decorator"
   ]
  },
  {
   "cell_type": "code",
   "execution_count": 63,
   "metadata": {},
   "outputs": [],
   "source": [
    "def cached(limit):\n",
    "    def decorator(func):\n",
    "        def new_func(x):\n",
    "            return func(x)\n",
    "\n",
    "        return new_func\n",
    "    \n",
    "    return decorator"
   ]
  },
  {
   "cell_type": "code",
   "execution_count": 65,
   "metadata": {},
   "outputs": [
    {
     "ename": "TypeError",
     "evalue": "'NoneType' object is not callable",
     "output_type": "error",
     "traceback": [
      "\u001b[0;31m---------------------------------------------------------------------------\u001b[0m",
      "\u001b[0;31mTypeError\u001b[0m                                 Traceback (most recent call last)",
      "Cell \u001b[0;32mIn [65], line 1\u001b[0m\n\u001b[0;32m----> 1\u001b[0m \u001b[43msqr\u001b[49m\u001b[43m(\u001b[49m\u001b[38;5;241;43m4\u001b[39;49m\u001b[43m)\u001b[49m\n",
      "Cell \u001b[0;32mIn [63], line 4\u001b[0m, in \u001b[0;36mcached.<locals>.decorator.<locals>.new_func\u001b[0;34m(x)\u001b[0m\n\u001b[1;32m      3\u001b[0m \u001b[38;5;28;01mdef\u001b[39;00m \u001b[38;5;21mnew_func\u001b[39m(x):\n\u001b[0;32m----> 4\u001b[0m     \u001b[38;5;28;01mreturn\u001b[39;00m \u001b[43mfunc\u001b[49m\u001b[43m(\u001b[49m\u001b[43mx\u001b[49m\u001b[43m)\u001b[49m\n",
      "Cell \u001b[0;32mIn [63], line 4\u001b[0m, in \u001b[0;36mcached.<locals>.decorator.<locals>.new_func\u001b[0;34m(x)\u001b[0m\n\u001b[1;32m      3\u001b[0m \u001b[38;5;28;01mdef\u001b[39;00m \u001b[38;5;21mnew_func\u001b[39m(x):\n\u001b[0;32m----> 4\u001b[0m     \u001b[38;5;28;01mreturn\u001b[39;00m \u001b[43mfunc\u001b[49m\u001b[43m(\u001b[49m\u001b[43mx\u001b[49m\u001b[43m)\u001b[49m\n",
      "\u001b[0;31mTypeError\u001b[0m: 'NoneType' object is not callable"
     ]
    }
   ],
   "source": [
    "sqr(4)"
   ]
  },
  {
   "cell_type": "markdown",
   "metadata": {},
   "source": [
    "`@wraps`\n",
    "---"
   ]
  },
  {
   "cell_type": "code",
   "execution_count": null,
   "metadata": {},
   "outputs": [],
   "source": [
    "from functools import wraps\n",
    "\n",
    "def cached(func):\n",
    "    cache = {}\n",
    "\n",
    "    def new_func(x):\n",
    "        if x not in cache:\n",
    "            cache[x] = func(x)\n",
    "        return cache[x]\n",
    "\n",
    "    return new_func\n",
    "\n",
    "@cached\n",
    "def sqr(x):\n",
    "    \"\"\"Returns the square of X\"\"\"\n",
    "    return x * x"
   ]
  },
  {
   "cell_type": "code",
   "execution_count": null,
   "metadata": {},
   "outputs": [],
   "source": [
    "sqr.__name__, sqr.__doc__"
   ]
  },
  {
   "cell_type": "markdown",
   "metadata": {},
   "source": [
    "Декораторы класса\n",
    "==="
   ]
  },
  {
   "cell_type": "code",
   "execution_count": null,
   "metadata": {
    "collapsed": true
   },
   "outputs": [],
   "source": [
    "class Number:\n",
    "    def __init__(self, value):\n",
    "        self._value = value\n",
    "        \n",
    "    def sqr(self):\n",
    "        return type(self)(self._value * self._value)\n",
    "    \n",
    "    def half(self):\n",
    "        return type(self)(self._value // 2)\n",
    "        \n",
    "    def __repr__(self):\n",
    "        return 'Number({value})'.format(value=self._value)"
   ]
  },
  {
   "cell_type": "code",
   "execution_count": null,
   "metadata": {},
   "outputs": [],
   "source": [
    "Number(2)"
   ]
  },
  {
   "cell_type": "code",
   "execution_count": null,
   "metadata": {},
   "outputs": [],
   "source": [
    "Number(3).sqr()"
   ]
  },
  {
   "cell_type": "markdown",
   "metadata": {},
   "source": [
    "Вручную декорируем методы\n",
    "---"
   ]
  },
  {
   "cell_type": "code",
   "execution_count": null,
   "metadata": {},
   "outputs": [],
   "source": [
    "def cached(method): ###\n",
    "    method_name = method.__name__\n",
    "    \n",
    "    def new_method(self):\n",
    "        if method_name not in self.CACHE:\n",
    "            self.CACHE[method_name] = {}\n",
    "        cache = self.CACHE[method_name]\n",
    "\n",
    "        if self._value not in cache:\n",
    "            cache[self._value] = method(self)\n",
    "        return cache[self._value]\n",
    "\n",
    "    return new_method\n",
    "\n",
    "class Number:\n",
    "    CACHE = {} ###\n",
    "    \n",
    "    def __init__(self, value):\n",
    "        self._value = value\n",
    "    \n",
    "    @cached ###\n",
    "    def sqr(self):\n",
    "        return type(self)(self._value * self._value)\n",
    "    \n",
    "    @cached ###\n",
    "    def half(self):\n",
    "        return type(self)(self._value // 2)\n",
    "        \n",
    "    def __repr__(self):\n",
    "        return 'Number({value})'.format(value=self._value)"
   ]
  },
  {
   "cell_type": "code",
   "execution_count": null,
   "metadata": {},
   "outputs": [],
   "source": [
    "Number(5).half()"
   ]
  },
  {
   "cell_type": "code",
   "execution_count": null,
   "metadata": {},
   "outputs": [],
   "source": [
    "Number(4).CACHE"
   ]
  },
  {
   "cell_type": "markdown",
   "metadata": {},
   "source": [
    "Автоматически декорируем известные методы\n",
    "---"
   ]
  },
  {
   "cell_type": "code",
   "execution_count": 66,
   "metadata": {},
   "outputs": [],
   "source": [
    "def cached(method):\n",
    "    method_name = method.__name__\n",
    "    \n",
    "    def new_method(self):\n",
    "        if method_name not in self.CACHE:\n",
    "            self.CACHE[method_name] = {}\n",
    "        cache = self.CACHE[method_name]\n",
    "\n",
    "        if self._value not in cache:\n",
    "            cache[self._value] = method(self)\n",
    "        return cache[self._value]\n",
    "\n",
    "    return new_method\n",
    "\n",
    "def cache_all(klass): ###\n",
    "    for attr_name in ['sqr', 'half']:\n",
    "        attr = getattr(klass, attr_name)\n",
    "        setattr(klass, attr_name, cached(attr))\n",
    "    return klass\n",
    "\n",
    "@cache_all ###\n",
    "class Number:\n",
    "    CACHE = {}\n",
    "    \n",
    "    def __init__(self, value):\n",
    "        self._value = value\n",
    "    \n",
    "    ###\n",
    "    def sqr(self):\n",
    "        return type(self)(self._value * self._value)\n",
    "    \n",
    "    ###\n",
    "    def half(self):\n",
    "        return type(self)(self._value // 2)\n",
    "        \n",
    "    def __repr__(self):\n",
    "        return 'Number({value})'.format(value=self._value)"
   ]
  },
  {
   "cell_type": "code",
   "execution_count": 76,
   "metadata": {},
   "outputs": [],
   "source": [
    "class MyClass:\n",
    "    some = 1\n",
    "    \n",
    "    def __init__(self, a):\n",
    "        self.a = a\n",
    "\n",
    "my_class = MyClass(20)"
   ]
  },
  {
   "cell_type": "code",
   "execution_count": 77,
   "metadata": {},
   "outputs": [],
   "source": [
    "setattr(my_class, \"b\", 30)"
   ]
  },
  {
   "cell_type": "code",
   "execution_count": 82,
   "metadata": {},
   "outputs": [
    {
     "data": {
      "text/plain": [
       "False"
      ]
     },
     "execution_count": 82,
     "metadata": {},
     "output_type": "execute_result"
    }
   ],
   "source": [
    "hasattr(my_class, \"bb\")"
   ]
  },
  {
   "cell_type": "code",
   "execution_count": 67,
   "metadata": {},
   "outputs": [
    {
     "data": {
      "text/plain": [
       "Number(2)"
      ]
     },
     "execution_count": 67,
     "metadata": {},
     "output_type": "execute_result"
    }
   ],
   "source": [
    "Number(5).half()"
   ]
  },
  {
   "cell_type": "code",
   "execution_count": 68,
   "metadata": {},
   "outputs": [
    {
     "data": {
      "text/plain": [
       "{'half': {5: Number(2)}}"
      ]
     },
     "execution_count": 68,
     "metadata": {},
     "output_type": "execute_result"
    }
   ],
   "source": [
    "Number.CACHE"
   ]
  },
  {
   "cell_type": "markdown",
   "metadata": {},
   "source": [
    "Автоматически декорируем помеченные методы\n",
    "---"
   ]
  },
  {
   "cell_type": "code",
   "execution_count": null,
   "metadata": {},
   "outputs": [],
   "source": [
    "def cached(method): ###\n",
    "    method._cached = True\n",
    "    return method\n",
    "\n",
    "def _cached(method): ###\n",
    "    method_name = method.__name__\n",
    "    \n",
    "    def new_method(self):\n",
    "        if method_name not in self.CACHE:\n",
    "            self.CACHE[method_name] = {}\n",
    "        cache = self.CACHE[method_name]\n",
    "\n",
    "        if self._value not in cache:\n",
    "            cache[self._value] = method(self)\n",
    "        return cache[self._value]\n",
    "\n",
    "    return new_method\n",
    "\n",
    "def cached_methods(klass):\n",
    "    for attr_name in klass.__dict__:\n",
    "        attr = getattr(klass, attr_name)\n",
    "        if hasattr(attr, '_cached') and attr._cached:\n",
    "            setattr(klass, attr_name, _cached(attr))\n",
    "    \n",
    "    return klass\n",
    "\n",
    "@cached_methods ###\n",
    "class Number:\n",
    "    CACHE = {}\n",
    "    \n",
    "    def __init__(self, value):\n",
    "        self._value = value\n",
    "    \n",
    "    @cached ###\n",
    "    def sqr(self):\n",
    "        return type(self)(self._value * self._value)\n",
    "    \n",
    "    @cached ###\n",
    "    def half(self):\n",
    "        return type(self)(self._value // 2)\n",
    "        \n",
    "    def __repr__(self):\n",
    "        return 'Number({value})'.format(value=self._value)"
   ]
  },
  {
   "cell_type": "code",
   "execution_count": null,
   "metadata": {},
   "outputs": [],
   "source": [
    "Number(5).half()"
   ]
  },
  {
   "cell_type": "code",
   "execution_count": null,
   "metadata": {},
   "outputs": [],
   "source": [
    "Number.CACHE"
   ]
  },
  {
   "cell_type": "markdown",
   "metadata": {},
   "source": [
    "Параметризуем имя кеша\n",
    "---"
   ]
  },
  {
   "cell_type": "markdown",
   "metadata": {},
   "source": [
    "<img width=500 src=\"fotr.ee.elrond.jpg\">"
   ]
  },
  {
   "cell_type": "code",
   "execution_count": null,
   "metadata": {
    "collapsed": true
   },
   "outputs": [],
   "source": [
    "def cached(method):\n",
    "    method._cached = True\n",
    "    return method\n",
    "\n",
    "def _cached(method, cache_name): ###\n",
    "    method_name = method.__name__\n",
    "\n",
    "    def new_method(self):\n",
    "        global_cache = getattr(self, cache_name) ###\n",
    "        if method_name not in global_cache:\n",
    "            global_cache[method_name] = {}\n",
    "        cache = global_cache[method_name]\n",
    "\n",
    "        if self._value not in cache:\n",
    "            cache[self._value] = method(self)\n",
    "        return cache[self._value]\n",
    "\n",
    "    return new_method\n",
    "\n",
    "\n",
    "def cached_methods(cache_name):\n",
    "    def decorator(klass):\n",
    "        setattr(klass, cache_name, {}) ###\n",
    "        \n",
    "        for attr_name in klass.__dict__:\n",
    "            attr = getattr(klass, attr_name)\n",
    "            if hasattr(attr, '_cached') and attr._cached:\n",
    "                setattr(klass, attr_name, _cached(attr, cache_name)) ###\n",
    "    \n",
    "        return klass\n",
    "    return decorator\n",
    "\n",
    "@cached_methods('MY_CACHE') ###\n",
    "class Number:\n",
    "    ###\n",
    "    \n",
    "    def __init__(self, value):\n",
    "        self._value = value\n",
    "    \n",
    "    @cached\n",
    "    def sqr(self):\n",
    "        return type(self)(self._value * self._value)\n",
    "    \n",
    "    @cached\n",
    "    def half(self):\n",
    "        return type(self)(self._value // 2)\n",
    "        \n",
    "    def __repr__(self):\n",
    "        return 'Number({value})'.format(value=self._value)"
   ]
  },
  {
   "cell_type": "code",
   "execution_count": null,
   "metadata": {},
   "outputs": [],
   "source": [
    "Number(5).half()"
   ]
  },
  {
   "cell_type": "code",
   "execution_count": null,
   "metadata": {},
   "outputs": [],
   "source": [
    "Number.MY_CACHE"
   ]
  },
  {
   "cell_type": "markdown",
   "metadata": {},
   "source": []
  },
  {
   "cell_type": "markdown",
   "metadata": {},
   "source": [
    "Метаклассы\n",
    "==="
   ]
  },
  {
   "cell_type": "code",
   "execution_count": 88,
   "metadata": {},
   "outputs": [
    {
     "data": {
      "text/plain": [
       "type"
      ]
     },
     "execution_count": 88,
     "metadata": {},
     "output_type": "execute_result"
    }
   ],
   "source": [
    "c = MyClass(23)\n",
    "c.__class__"
   ]
  },
  {
   "cell_type": "code",
   "execution_count": 89,
   "metadata": {},
   "outputs": [],
   "source": [
    "class MyList(list):\n",
    "    def get_length(self):\n",
    "        return len(self)"
   ]
  },
  {
   "cell_type": "code",
   "execution_count": 92,
   "metadata": {},
   "outputs": [
    {
     "data": {
      "text/plain": [
       "([3, 2], 2)"
      ]
     },
     "execution_count": 92,
     "metadata": {},
     "output_type": "execute_result"
    }
   ],
   "source": [
    "lst = MyList()\n",
    "lst.append(1)\n",
    "lst.append(2)\n",
    "lst[0] = 3\n",
    "lst, lst.get_length()"
   ]
  },
  {
   "cell_type": "code",
   "execution_count": 91,
   "metadata": {},
   "outputs": [],
   "source": [
    "MyList = type(\n",
    "    'MyList',\n",
    "    (list,),\n",
    "    dict(get_length=lambda self: len(self)),\n",
    ")"
   ]
  },
  {
   "cell_type": "code",
   "execution_count": 93,
   "metadata": {},
   "outputs": [],
   "source": [
    "class MyMeta(type):\n",
    "    def __init__(cls, name, bases, attrs):\n",
    "        print('Creating {}'.format(cls))\n",
    "        super().__init__(name, bases, attrs)"
   ]
  },
  {
   "cell_type": "code",
   "execution_count": 94,
   "metadata": {},
   "outputs": [
    {
     "name": "stdout",
     "output_type": "stream",
     "text": [
      "Creating <class '__main__.MyList'>\n"
     ]
    }
   ],
   "source": [
    "class MyList(list, metaclass=MyMeta):\n",
    "    def get_length(self):\n",
    "        return len(self)"
   ]
  },
  {
   "cell_type": "code",
   "execution_count": 97,
   "metadata": {},
   "outputs": [],
   "source": [
    "class AllPrivateMeta(type):\n",
    "    def __new__(meta, name, bases, attrs):\n",
    "        new_attrs = {}\n",
    "        for attr_name in attrs:\n",
    "            new_name = attr_name if attr_name.startswith('_') else '_' + attr_name\n",
    "            new_attrs[new_name] = attrs[attr_name]\n",
    "        \n",
    "        return super().__new__(meta, name, bases, new_attrs)"
   ]
  },
  {
   "cell_type": "code",
   "execution_count": 98,
   "metadata": {},
   "outputs": [],
   "source": [
    "class MyList(list, metaclass=AllPrivateMeta):\n",
    "    def get_length(self):\n",
    "        return len(self)"
   ]
  },
  {
   "cell_type": "code",
   "execution_count": 102,
   "metadata": {},
   "outputs": [
    {
     "data": {
      "text/plain": [
       "0"
      ]
     },
     "execution_count": 102,
     "metadata": {},
     "output_type": "execute_result"
    }
   ],
   "source": [
    "lst = MyList()\n",
    "lst._get_length()\n",
    "\n",
    "# S - принцип единственной ответственности/функциональность - одно назначение\n",
    "# O - open/close модуль закрыт для изменения, открыт для расширения\n",
    "# L - liskov, потомок должен взаимозамен родителем\n",
    "# I - S для интерфейсов\n",
    "# D - зависимость от абстракций"
   ]
  },
  {
   "cell_type": "markdown",
   "metadata": {},
   "source": [
    "Дескрипторы\n",
    "==="
   ]
  },
  {
   "cell_type": "code",
   "execution_count": 106,
   "metadata": {},
   "outputs": [
    {
     "name": "stdout",
     "output_type": "stream",
     "text": [
      "<class '__main__.Data'> x\n"
     ]
    }
   ],
   "source": [
    "class Data:\n",
    "    x = Json()"
   ]
  },
  {
   "cell_type": "code",
   "execution_count": 107,
   "metadata": {},
   "outputs": [
    {
     "data": {
      "text/plain": [
       "NoneType"
      ]
     },
     "execution_count": 107,
     "metadata": {},
     "output_type": "execute_result"
    }
   ],
   "source": [
    "d = Data()\n",
    "type(d.x)"
   ]
  },
  {
   "cell_type": "code",
   "execution_count": 105,
   "metadata": {},
   "outputs": [],
   "source": [
    "class Json:\n",
    "    #\n",
    "    #\n",
    "    #\n",
    "    #\n",
    "    #\n",
    "    \n",
    "    \n",
    "    \n",
    "    \n",
    "    def __set__(self, instance, value):\n",
    "        setattr(instance, '_' + self._name, value)\n",
    "    \n",
    "    def __get__(self, instance, owner):\n",
    "        if not hasattr(instance, '_' + self._name):\n",
    "            return None\n",
    "        data = getattr(instance, '_' + self._name)\n",
    "        if isinstance(data, str):\n",
    "            import json\n",
    "            return json.loads(data)\n",
    "    \n",
    "    def __set_name__(self, owner, name):\n",
    "        print(owner, name)\n",
    "        self._name = name"
   ]
  },
  {
   "cell_type": "code",
   "execution_count": 108,
   "metadata": {},
   "outputs": [
    {
     "data": {
      "text/plain": [
       "[1, 2, {}]"
      ]
     },
     "execution_count": 108,
     "metadata": {},
     "output_type": "execute_result"
    }
   ],
   "source": [
    "d.x = '[1,2,{}]'\n",
    "d.x"
   ]
  },
  {
   "cell_type": "code",
   "execution_count": null,
   "metadata": {},
   "outputs": [],
   "source": [
    "class Person(models.Model):\n",
    "    first_name = models.CharField(max_length=30)\n",
    "    last_name = models.CharField(max_length=30)"
   ]
  },
  {
   "cell_type": "code",
   "execution_count": null,
   "metadata": {
    "collapsed": true
   },
   "outputs": [],
   "source": []
  }
 ],
 "metadata": {
  "kernelspec": {
   "display_name": "Python 3 (ipykernel)",
   "language": "python",
   "name": "python3"
  },
  "language_info": {
   "codemirror_mode": {
    "name": "ipython",
    "version": 3
   },
   "file_extension": ".py",
   "mimetype": "text/x-python",
   "name": "python",
   "nbconvert_exporter": "python",
   "pygments_lexer": "ipython3",
   "version": "3.9.13"
  }
 },
 "nbformat": 4,
 "nbformat_minor": 2
}
